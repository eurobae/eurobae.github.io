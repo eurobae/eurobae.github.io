{
 "cells": [
  {
   "cell_type": "markdown",
   "id": "cc129284",
   "metadata": {},
   "source": [
    "---\n",
    "title: \"Maximum Likelihood Estimation\"\n",
    "permalink: /references/mle/\n",
    "last_modified_at: 2022-01-01\n",
    "classes: wide\n",
    "toc: true\n",
    "---"
   ]
  },
  {
   "cell_type": "markdown",
   "id": "f31f7c61",
   "metadata": {},
   "source": [
    "본 게시물은 Rice University의 Richard W. Evans가 2018년 7월 QuantEcon에 게시한 [Maximum Likelihood Estimation](https://notes.quantecon.org/submission/5b3b102eb9eab00015b89f8e)를 바탕으로 만들어졌습니다."
   ]
  },
  {
   "cell_type": "markdown",
   "id": "964a6fda",
   "metadata": {},
   "source": [
    "# General Characterization of a Model and Data Generating Process"
   ]
  },
  {
   "cell_type": "markdown",
   "id": "af0f6710",
   "metadata": {},
   "source": [
    "후술될 MLE, GMM, SMM"
   ]
  },
  {
   "cell_type": "code",
   "execution_count": 5,
   "id": "7ca8ec55",
   "metadata": {},
   "outputs": [],
   "source": [
    "import pandas as pd\n",
    "import numpy as np\n",
    "import scipy.stats as sts\n",
    "import requests\n",
    "\n",
    "import matplotlib.pyplot as plt"
   ]
  },
  {
   "cell_type": "code",
   "execution_count": 3,
   "id": "b332f19c",
   "metadata": {},
   "outputs": [],
   "source": [
    "# Econ381totpts.txt 데이터 불러오기\n",
    "url = ('https://raw.githubusercontent.com/rickecon/Notebooks/' +\n",
    "       'master/MLE/data/Econ381totpts.txt')\n",
    "data_file = requests.get(url, allow_redirects=True)\n",
    "open('Econ381totpts.txt', 'wb').write(data_file.content)\n",
    "\n",
    "# Load the data as a NumPy array\n",
    "pts = np.loadtxt('Econ381totpts.txt')"
   ]
  },
  {
   "cell_type": "code",
   "execution_count": 30,
   "id": "47bce940",
   "metadata": {},
   "outputs": [
    {
     "data": {
      "text/html": [
       "<div>\n",
       "<style scoped>\n",
       "    .dataframe tbody tr th:only-of-type {\n",
       "        vertical-align: middle;\n",
       "    }\n",
       "\n",
       "    .dataframe tbody tr th {\n",
       "        vertical-align: top;\n",
       "    }\n",
       "\n",
       "    .dataframe thead th {\n",
       "        text-align: right;\n",
       "    }\n",
       "</style>\n",
       "<table border=\"1\" class=\"dataframe\">\n",
       "  <thead>\n",
       "    <tr style=\"text-align: right;\">\n",
       "      <th></th>\n",
       "      <th>score</th>\n",
       "    </tr>\n",
       "  </thead>\n",
       "  <tbody>\n",
       "    <tr>\n",
       "      <th>0</th>\n",
       "      <td>275.50</td>\n",
       "    </tr>\n",
       "    <tr>\n",
       "      <th>1</th>\n",
       "      <td>351.50</td>\n",
       "    </tr>\n",
       "    <tr>\n",
       "      <th>2</th>\n",
       "      <td>346.25</td>\n",
       "    </tr>\n",
       "    <tr>\n",
       "      <th>3</th>\n",
       "      <td>228.25</td>\n",
       "    </tr>\n",
       "    <tr>\n",
       "      <th>4</th>\n",
       "      <td>108.25</td>\n",
       "    </tr>\n",
       "    <tr>\n",
       "      <th>...</th>\n",
       "      <td>...</td>\n",
       "    </tr>\n",
       "    <tr>\n",
       "      <th>156</th>\n",
       "      <td>235.00</td>\n",
       "    </tr>\n",
       "    <tr>\n",
       "      <th>157</th>\n",
       "      <td>102.20</td>\n",
       "    </tr>\n",
       "    <tr>\n",
       "      <th>158</th>\n",
       "      <td>112.30</td>\n",
       "    </tr>\n",
       "    <tr>\n",
       "      <th>159</th>\n",
       "      <td>130.60</td>\n",
       "    </tr>\n",
       "    <tr>\n",
       "      <th>160</th>\n",
       "      <td>60.20</td>\n",
       "    </tr>\n",
       "  </tbody>\n",
       "</table>\n",
       "<p>161 rows × 1 columns</p>\n",
       "</div>"
      ],
      "text/plain": [
       "      score\n",
       "0    275.50\n",
       "1    351.50\n",
       "2    346.25\n",
       "3    228.25\n",
       "4    108.25\n",
       "..      ...\n",
       "156  235.00\n",
       "157  102.20\n",
       "158  112.30\n",
       "159  130.60\n",
       "160   60.20\n",
       "\n",
       "[161 rows x 1 columns]"
      ]
     },
     "execution_count": 30,
     "metadata": {},
     "output_type": "execute_result"
    }
   ],
   "source": [
    "pd.read_csv(url, header=None, names=[\"score\"]) #[0].to_numpy() #.array"
   ]
  },
  {
   "cell_type": "code",
   "execution_count": 4,
   "id": "db2e2dcb",
   "metadata": {},
   "outputs": [
    {
     "data": {
      "text/plain": [
       "array([275.5  , 351.5  , 346.25 , 228.25 , 108.25 , 380.75 , 346.25 ,\n",
       "       360.75 , 196.   , 414.75 , 370.5  , 371.75 , 143.75 , 333.5  ,\n",
       "       397.5  , 405.75 , 154.75 , 321.   , 279.   , 326.5  ,  49.5  ,\n",
       "       402.75 , 389.75 , 382.25 , 337.75 , 311.   , 105.5  , 380.5  ,\n",
       "       236.   , 326.5  , 343.75 , 328.75 , 316.25 , 348.25 , 338.75 ,\n",
       "       375.75 , 410.   ,  17.   , 414.25 ,  21.25 , 369.625, 318.875,\n",
       "       336.125, 429.875, 407.5  , 415.75 , 332.375, 397.   , 375.875,\n",
       "       419.125, 270.125, 299.25 , 384.125, 335.   , 408.5  , 414.25 ,\n",
       "       253.5  , 339.25 , 338.75 , 355.375, 326.375, 240.375, 385.   ,\n",
       "       435.   , 317.25 , 365.625, 372.75 , 365.125, 349.625, 366.75 ,\n",
       "       386.5  , 391.75 , 403.   , 258.5  , 386.   , 411.   , 350.25 ,\n",
       "       402.25 , 294.625, 291.125, 378.125, 442.   , 428.1  , 347.3  ,\n",
       "       431.8  , 430.4  , 426.   , 433.5  , 331.1  , 405.7  , 415.5  ,\n",
       "       406.4  , 418.6  , 400.7  , 408.8  , 404.8  , 409.4  , 410.8  ,\n",
       "       402.5  , 401.   , 415.3  , 390.8  , 394.6  , 399.   , 380.   ,\n",
       "       397.5  , 368.7  , 394.7  , 304.3  , 391.1  , 388.4  , 370.3  ,\n",
       "       384.6  , 383.5  , 305.6  , 286.5  , 367.9  , 329.8  , 288.2  ,\n",
       "       338.5  , 333.6  , 268.6  , 335.2  , 296.3  , 269.1  , 243.2  ,\n",
       "       159.4  , 448.4  , 449.8  , 435.9  , 429.4  , 428.3  , 427.5  ,\n",
       "       422.5  , 409.8  , 415.8  , 413.4  , 416.8  , 406.7  , 383.9  ,\n",
       "       389.   , 387.2  , 368.6  , 399.5  , 382.6  , 355.9  , 389.9  ,\n",
       "       342.5  , 365.2  , 320.3  , 341.5  , 248.1  , 305.   , 279.2  ,\n",
       "       275.7  , 204.5  , 235.   , 102.2  , 112.3  , 130.6  ,  60.2  ])"
      ]
     },
     "execution_count": 4,
     "metadata": {},
     "output_type": "execute_result"
    }
   ],
   "source": [
    "pts"
   ]
  },
  {
   "cell_type": "code",
   "execution_count": null,
   "id": "baa95ac0",
   "metadata": {},
   "outputs": [],
   "source": []
  },
  {
   "cell_type": "code",
   "execution_count": 6,
   "id": "4f0b36c6",
   "metadata": {},
   "outputs": [
    {
     "data": {
      "text/plain": [
       "(0.0, 550.0)"
      ]
     },
     "execution_count": 6,
     "metadata": {},
     "output_type": "execute_result"
    },
    {
     "data": {
      "image/png": "[encoded data removed]",
      "text/plain": [
       "<Figure size 432x288 with 1 Axes>"
      ]
     },
     "metadata": {
      "needs_background": "light"
     },
     "output_type": "display_data"
    }
   ],
   "source": [
    "num_bins = 30\n",
    "count, bins, ignored = plt.hist(pts, num_bins, density=True,\n",
    "                                edgecolor='k')\n",
    "plt.title('Econ 381 scores: 2011-2012', fontsize=20)\n",
    "plt.xlabel(r'Total points')\n",
    "plt.ylabel(r'Percent of scores')\n",
    "plt.xlim([0, 550])"
   ]
  },
  {
   "cell_type": "code",
   "execution_count": null,
   "id": "42d0e787",
   "metadata": {},
   "outputs": [],
   "source": []
  },
  {
   "cell_type": "code",
   "execution_count": null,
   "id": "f34884f9",
   "metadata": {},
   "outputs": [],
   "source": []
  },
  {
   "cell_type": "code",
   "execution_count": null,
   "id": "1576a213",
   "metadata": {},
   "outputs": [],
   "source": []
  }
 ],
 "metadata": {
  "kernelspec": {
   "display_name": "Python 3 (ipykernel)",
   "language": "python",
   "name": "python3"
  },
  "language_info": {
   "codemirror_mode": {
    "name": "ipython",
    "version": 3
   },
   "file_extension": ".py",
   "mimetype": "text/x-python",
   "name": "python",
   "nbconvert_exporter": "python",
   "pygments_lexer": "ipython3",
   "version": "3.9.7"
  }
 },
 "nbformat": 4,
 "nbformat_minor": 5
}
