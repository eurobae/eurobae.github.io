{
 "cells": [
  {
   "cell_type": "markdown",
   "id": "6e660d0a",
   "metadata": {},
   "source": [
    "---\n",
    "title: \"Maximum Likelihood Estimation\"\n",
    "permalink: /references/mle/\n",
    "last_modified_at: 2022-01-01\n",
    "classes: wide\n",
    "toc: true\n",
    "---"
   ]
  },
  {
   "cell_type": "markdown",
   "id": "14576bc3",
   "metadata": {},
   "source": [
    "본 포스트는 Rice University의 Richard W. Evans가 2018년 7월 QuantEcon에 게시한 [Maximum Likelihood Estimation](https://notes.quantecon.org/submission/5b3b102eb9eab00015b89f8e)를 바탕으로 만들어졌습니다."
   ]
  },
  {
   "cell_type": "markdown",
   "id": "964a6fda",
   "metadata": {},
   "source": [
    "# 1. General Characterization of a Model and Data Generating Process"
   ]
  },
  {
   "cell_type": "markdown",
   "id": "5770576f",
   "metadata": {},
   "source": [
    "Maximum Likelihood Estimation(MLE), 그리고 이후 포스트에서 다룰 Generalized Method of Moments(GMM)와 Simulated Method of Moments(SMM) 추정법들은 데이터의 특성들 중 일부를 설명하기 위해 모델 파라미터의 값을 "
   ]
  },
  {
   "cell_type": "markdown",
   "id": "cb65895c",
   "metadata": {},
   "source": [
    "<br>"
   ]
  },
  {
   "cell_type": "markdown",
   "id": "024cb94f",
   "metadata": {},
   "source": [
    "# 2. Data and Likelihood"
   ]
  },
  {
   "cell_type": "code",
   "execution_count": 5,
   "id": "7ca8ec55",
   "metadata": {},
   "outputs": [],
   "source": [
    "import pandas as pd\n",
    "import numpy as np\n",
    "import scipy.stats as sts\n",
    "import requests\n",
    "\n",
    "import matplotlib.pyplot as plt"
   ]
  },
  {
   "cell_type": "code",
   "execution_count": 31,
   "id": "ab4be25a",
   "metadata": {},
   "outputs": [
    {
     "data": {
      "text/html": [
       "<div>\n",
       "<style scoped>\n",
       "    .dataframe tbody tr th:only-of-type {\n",
       "        vertical-align: middle;\n",
       "    }\n",
       "\n",
       "    .dataframe tbody tr th {\n",
       "        vertical-align: top;\n",
       "    }\n",
       "\n",
       "    .dataframe thead th {\n",
       "        text-align: right;\n",
       "    }\n",
       "</style>\n",
       "<table border=\"1\" class=\"dataframe\">\n",
       "  <thead>\n",
       "    <tr style=\"text-align: right;\">\n",
       "      <th></th>\n",
       "      <th>points</th>\n",
       "    </tr>\n",
       "  </thead>\n",
       "  <tbody>\n",
       "    <tr>\n",
       "      <th>0</th>\n",
       "      <td>275.50</td>\n",
       "    </tr>\n",
       "    <tr>\n",
       "      <th>1</th>\n",
       "      <td>351.50</td>\n",
       "    </tr>\n",
       "    <tr>\n",
       "      <th>2</th>\n",
       "      <td>346.25</td>\n",
       "    </tr>\n",
       "    <tr>\n",
       "      <th>3</th>\n",
       "      <td>228.25</td>\n",
       "    </tr>\n",
       "    <tr>\n",
       "      <th>4</th>\n",
       "      <td>108.25</td>\n",
       "    </tr>\n",
       "    <tr>\n",
       "      <th>...</th>\n",
       "      <td>...</td>\n",
       "    </tr>\n",
       "    <tr>\n",
       "      <th>156</th>\n",
       "      <td>235.00</td>\n",
       "    </tr>\n",
       "    <tr>\n",
       "      <th>157</th>\n",
       "      <td>102.20</td>\n",
       "    </tr>\n",
       "    <tr>\n",
       "      <th>158</th>\n",
       "      <td>112.30</td>\n",
       "    </tr>\n",
       "    <tr>\n",
       "      <th>159</th>\n",
       "      <td>130.60</td>\n",
       "    </tr>\n",
       "    <tr>\n",
       "      <th>160</th>\n",
       "      <td>60.20</td>\n",
       "    </tr>\n",
       "  </tbody>\n",
       "</table>\n",
       "<p>161 rows × 1 columns</p>\n",
       "</div>"
      ],
      "text/plain": [
       "     points\n",
       "0    275.50\n",
       "1    351.50\n",
       "2    346.25\n",
       "3    228.25\n",
       "4    108.25\n",
       "..      ...\n",
       "156  235.00\n",
       "157  102.20\n",
       "158  112.30\n",
       "159  130.60\n",
       "160   60.20\n",
       "\n",
       "[161 rows x 1 columns]"
      ]
     },
     "execution_count": 31,
     "metadata": {},
     "output_type": "execute_result"
    }
   ],
   "source": [
    "# Econ381totpts.txt 데이터 불러오기\n",
    "url = ('https://raw.githubusercontent.com/rickecon/Notebooks/' +\n",
    "       'master/MLE/data/Econ381totpts.txt')\n",
    "data = pd.read_csv(url, header=None, names=[\"points\"])\n",
    "# data.points.to_numpy()\n",
    "data"
   ]
  },
  {
   "cell_type": "markdown",
   "id": "514c2585",
   "metadata": {},
   "source": [
    "히스토그램으로 분포를 시각화해 보았습니다."
   ]
  },
  {
   "cell_type": "code",
   "execution_count": 46,
   "id": "708c06d0",
   "metadata": {},
   "outputs": [
    {
     "data": {
      "image/png": "[encoded data removed]",
      "text/plain": [
       "<Figure size 432x288 with 1 Axes>"
      ]
     },
     "metadata": {
      "needs_background": "light"
     },
     "output_type": "display_data"
    }
   ],
   "source": [
    "plt.hist(data, bins=30, density=True, edgecolor='k')\n",
    "plt.title(\"ECON 381 scores: 2011-2012\", fontsize=16)\n",
    "plt.xlabel(\"Points\")\n",
    "plt.ylabel(\"Percent\")\n",
    "plt.xlim([0, 550])\n",
    "plt.show()"
   ]
  },
  {
   "cell_type": "code",
   "execution_count": null,
   "id": "e9141c77",
   "metadata": {},
   "outputs": [],
   "source": []
  },
  {
   "cell_type": "code",
   "execution_count": null,
   "id": "9393e1f6",
   "metadata": {},
   "outputs": [],
   "source": []
  },
  {
   "cell_type": "code",
   "execution_count": null,
   "id": "1576a213",
   "metadata": {},
   "outputs": [],
   "source": []
  }
 ],
 "metadata": {
  "kernelspec": {
   "display_name": "Python 3 (ipykernel)",
   "language": "python",
   "name": "python3"
  },
  "language_info": {
   "codemirror_mode": {
    "name": "ipython",
    "version": 3
   },
   "file_extension": ".py",
   "mimetype": "text/x-python",
   "name": "python",
   "nbconvert_exporter": "python",
   "pygments_lexer": "ipython3",
   "version": "3.9.7"
  }
 },
 "nbformat": 4,
 "nbformat_minor": 5
}
